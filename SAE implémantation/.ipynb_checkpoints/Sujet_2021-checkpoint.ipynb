{
 "cells": [
  {
   "cell_type": "markdown",
   "metadata": {
    "deletable": false,
    "editable": false,
    "run_control": {
     "frozen": true
    }
   },
   "source": [
    "# SAE : Implémentation d'un besoin client\n",
    "# <center> Codage et décodage </center>"
   ]
  },
  {
   "cell_type": "markdown",
   "metadata": {
    "deletable": false,
    "editable": false,
    "run_control": {
     "frozen": true
    }
   },
   "source": [
    "L'objectif de ce projet est d'implanter différentes techniques de codage et décodage de l'information. \n",
    "Plus précisément, on s'intéressera ici à deux  méthodes qui ont des objectifs assez différents: \n",
    "- le **codage à bit de parité simple** qui permet de vérifier que l'information reçue n'a pas été altérée au cours de la transmission;\n",
    "- le **chiffrement de César** qui permet de chiffrer l'information à transmettre."
   ]
  },
  {
   "cell_type": "markdown",
   "metadata": {
    "deletable": false,
    "editable": false,
    "run_control": {
     "frozen": true
    }
   },
   "source": [
    "**Ce projet est à faire en binôme.**\n",
    "\n",
    "Pour chaque fonction demandée, un exemple d'appel ou des tests unitaires sont donnés de manière à vérifier la conformité de votre proposition.\n",
    "\n",
    "Lorsque l'on convertit des chaînes de caractères en nombres et *vice versa*, on a souvent recours à des **casts**. \n",
    "\n",
    "Lorsque l'on manipule des caractères, il est également utile d'accéder à leur unicode et *vice versa*. En Python, cela se fait via les fonctions `ord` et `chr` respectivement."
   ]
  },
  {
   "cell_type": "markdown",
   "metadata": {
    "deletable": false,
    "editable": false,
    "run_control": {
     "frozen": true
    }
   },
   "source": [
    "## Préliminaires\n",
    "\n",
    "Pour implanter les différentes méthodes de codage et décodage, certaines fonctions sont bien utiles. Ce sont ces fonctions qui font l'objet de cette partie préliminaire."
   ]
  },
  {
   "cell_type": "markdown",
   "metadata": {
    "deletable": false,
    "editable": false,
    "run_control": {
     "frozen": true
    }
   },
   "source": [
    "### Question 1 : Saisie contrôlée d'un entier positif\n",
    "Ecrire une fonction  de saisie contrôlée `saisieIntPos` demandant à l'utilisateur un entier positif ou nul et le lui redemandant jusqu'à ce que ce soit un entier positif ou nul."
   ]
  },
  {
   "cell_type": "code",
   "execution_count": 1,
   "metadata": {},
   "outputs": [],
   "source": [
    "#-------------------------#\n",
    "#    Écrire le code ici   #\n",
    "#-------------------------#\n",
    "def saisieIntPos():\n",
    "    \"\"\"\n",
    "    Demande à l'utilisateur d'entrer un entier positif \n",
    "    et le lui redemandant jusqu'à ce que ce soit un entier positif ou nul.\n",
    "    \"\"\"\n",
    "    nb = -1\n",
    "    while nb < 0:\n",
    "        nb = int(input(\"Entrer un entier positif : \"))\n",
    "    return nb\n",
    "\n"
   ]
  },
  {
   "cell_type": "code",
   "execution_count": 3,
   "metadata": {},
   "outputs": [
    {
     "name": "stdout",
     "output_type": "stream",
     "text": [
      "Entrer un entier positif : 5\n",
      "l'entier saisi est 5\n"
     ]
    }
   ],
   "source": [
    "# ------------  TEST/EXEMPLE ---------- #\n",
    "print(\"l'entier saisi est\", saisieIntPos())"
   ]
  },
  {
   "cell_type": "markdown",
   "metadata": {
    "deletable": false,
    "editable": false,
    "run_control": {
     "frozen": true
    }
   },
   "source": [
    "### Question 2 : Saisie d'un entier positif  qui s'écrit sur 10 bits\n",
    "Le plus grand entier positif que l'on puisse écrire en binaire sur 10 bits est 2047 (car 10000000000 en binaire vaut 2048 en décimal).\n",
    "\n",
    "Ecrire une fonction  de saisie contrôlée `saisieIntPos10Bits` demandant à l'utilisateur un entier compris entre 0 (inclus) et 2047 (inclus) et lui redemandant un entier jusqu'à ce que ce soit qu'il soit correct."
   ]
  },
  {
   "cell_type": "code",
   "execution_count": 4,
   "metadata": {},
   "outputs": [],
   "source": [
    "#-------------------------#\n",
    "#    Écrire le code ici   #\n",
    "#-------------------------#\n",
    "def saisieIntPos10Bits():\n",
    "    \"\"\"\n",
    "    Demande à l'utilisateur un entier compris entre 0 (inclus) et 2047 (inclus) \n",
    "    et lui redemandant un entier jusqu'à ce que ce soit qu'il soit correct.\n",
    "    \"\"\"\n",
    "    \n",
    "    nb = -1\n",
    "    while not (0 <= nb <= 2047):\n",
    "        nb = int(input(\"Entrer un entier compris entre 0 et 2047 : \"))\n",
    "    return nb\n",
    "\n"
   ]
  },
  {
   "cell_type": "code",
   "execution_count": 5,
   "metadata": {},
   "outputs": [
    {
     "name": "stdout",
     "output_type": "stream",
     "text": [
      "Entrer un entier compris entre 0 et 2047 : 5\n",
      "l'entier saisi est 5\n"
     ]
    }
   ],
   "source": [
    "# ------------  TEST/EXEMPLE ---------- #\n",
    "print(\"l'entier saisi est\",saisieIntPos10Bits())"
   ]
  },
  {
   "cell_type": "markdown",
   "metadata": {
    "deletable": false,
    "editable": false,
    "run_control": {
     "frozen": true
    }
   },
   "source": [
    "### Question 3 : Saisie contrôlée d'un entier compris entre a et b\n",
    "Ecrire une fonction  de saisie contrôlée `saisieIntab` demandant à l'utilisateur un entier compris entre a (inclus) et b (inclus) et lui redemandant un entier jusqu'à ce que ce soit qu'il soit dans le bon intervalle.\n",
    "\n",
    "On ne vérifiera pas que a est plus petit que b."
   ]
  },
  {
   "cell_type": "code",
   "execution_count": 6,
   "metadata": {},
   "outputs": [],
   "source": [
    "#-------------------------#\n",
    "#    Écrire le code ici   #\n",
    "#-------------------------#\n",
    "def saisieIntab(a,b):\n",
    "    \"\"\"\n",
    "    Demande à l'utilisateur un entier compris entre a (inclus) \n",
    "    et b (inclus) et lui redemandant un entier jusqu'à ce que ce soit qu'il soit dans le bon intervalle.\n",
    "    \"\"\"\n",
    "    nb = int(input(\"Entrer un entier compris entre {} et {} : \".format(a,b)))\n",
    "    while not(a <= nb <= b) and not(b <= nb <= a):\n",
    "        nb = int(input(\"Entrer un entier compris entre {} et {} : \".format(a,b)))\n",
    "    return nb\n"
   ]
  },
  {
   "cell_type": "code",
   "execution_count": 7,
   "metadata": {},
   "outputs": [
    {
     "name": "stdout",
     "output_type": "stream",
     "text": [
      "Entrer un entier compris entre 1 et 25 : 5\n",
      "l'entier saisi est 5\n"
     ]
    }
   ],
   "source": [
    "# ------------  TEST/EXEMPLE ---------- #\n",
    "print(\"l'entier saisi est\",saisieIntab(1,25))"
   ]
  },
  {
   "cell_type": "markdown",
   "metadata": {},
   "source": [
    "### Question 4 : Verification de la binarité d'une chaîne\n",
    "Ecrire une fonction `verifBin` qui permet de vérifier qu'une chaîne de caractères ne contient que des `0` et des `1`.\n",
    "Elle prendra en paramètre une chaîne de caractère `s_bin` et retournera `True` si la chaîne n'est composée que de`0` et de `1` et `False` sinon."
   ]
  },
  {
   "cell_type": "code",
   "execution_count": 8,
   "metadata": {},
   "outputs": [],
   "source": [
    "#-------------------------#\n",
    "#    Écrire le code ici   #\n",
    "#-------------------------#\n",
    "\n",
    "def verifBin(s_bin):\n",
    "    \"\"\"\n",
    "    Entrée : chaine de caractère\n",
    "    Sortie :bool, True si la contient que des \"0\" et \"1\" sinon False\n",
    "    \"\"\"\n",
    "    for c in s_bin:\n",
    "        if c != \"0\" and c != \"1\" :\n",
    "            return False\n",
    "    return True\n",
    "\n"
   ]
  },
  {
   "cell_type": "code",
   "execution_count": 9,
   "metadata": {},
   "outputs": [
    {
     "name": "stdout",
     "output_type": "stream",
     "text": [
      "test ok\n"
     ]
    }
   ],
   "source": [
    "# ------------  TEST/EXEMPLE ---------- #\n",
    "def test_verifBin():\n",
    "    assert verifBin('0000')\n",
    "    assert verifBin('0110')\n",
    "    assert not verifBin('2981')\n",
    "    assert not verifBin('andei')\n",
    "    assert not verifBin('2&@')\n",
    "    print(\"test ok\")\n",
    "\n",
    "test_verifBin()"
   ]
  },
  {
   "cell_type": "markdown",
   "metadata": {},
   "source": [
    "### Question 5 : Conversion d'un nombre décimal en binaire \n",
    "\n",
    "Pour transmettre l'information, on est souvent amené à convertir en binaire des nombres décimaux. Par exemple, Le nombre `13` écrit en base 10 se code `1101` en binaire.\n",
    "\n",
    "*Comment effectuer ce codage ?*\n",
    "\n",
    "On peut utiliser la méthode des divisions successives par 2.\n",
    "\n",
    "**Rappels :** En Python,\n",
    "- le quotient d'une division euclidienne s'obtient en utilisant l'opérateur `//` ; ainsi `5//2=2`\n",
    "- le reste d'une division euclidienne s'obtient en utilisant l'opérateur `%`; ainsi `5%2=1`\n",
    "\n",
    "```\n",
    "   \t             .\n",
    "   \t            / \\   <--- sens de lecture des restes pour former le nombre binaire\n",
    "13 // 2   = 6   \t|   \n",
    "13 %  2   = 1    |   reste = 1\n",
    "                 |\n",
    "6 // 2    = 3   \t|   \n",
    "6  %  2   = 0   \t|   reste = 0\n",
    "                 |  \n",
    "3 // 2    = 1    |   \n",
    "3 %  2    = 1    |   reste = 1\n",
    "                 |\n",
    "1  // 2   = 0  \t |                  <---- On arrête, car le quotient est égal à 0\n",
    "1  % 2    = 1    |   reste = 1\n",
    "   \t             |                  \n",
    "Le nombre 13 en base 10 se code 1101 en binaire.\n",
    "```\n",
    "\n",
    "Ecrire une fonction `int2bin` prenant en paramètre un entier positif `n` écrit en base 10  et retournant une chaine de caractères correspondant à ce nombre codé en binaire en utilisant la méthode des divisions successives.\n",
    "\n",
    "On pensera à procéder à d'éventuels casts dans la fonction. On fera également attention au sens dans lequel on procède aux concaténations de chaînes de caractères.\n",
    "\n",
    "Voici le prototype de la fonction :\n",
    "```python\n",
    "def int2bin(n):\n",
    "    \"\"\"\n",
    "    :param n: nombre en base 10 à convertir en binaire\n",
    "    :return: str contient la representation binaire de n\n",
    "    \"\"\"\n",
    "```\n",
    "**Note :** Aucun test ne sera fait dans la fonction pour vérifier la validité du paramètre."
   ]
  },
  {
   "cell_type": "code",
   "execution_count": 10,
   "metadata": {
    "deletable": false,
    "editable": false,
    "run_control": {
     "frozen": true
    }
   },
   "outputs": [],
   "source": [
    "#-------------------------#\n",
    "#    Écrire le code ici   #\n",
    "#-------------------------#\n",
    "\n",
    "\n"
   ]
  },
  {
   "cell_type": "code",
   "execution_count": 11,
   "metadata": {},
   "outputs": [
    {
     "name": "stdout",
     "output_type": "stream",
     "text": [
      "test OK\n"
     ]
    }
   ],
   "source": [
    "# ------------  TEST/EXEMPLE ---------- #\n",
    "def int2bin(n):\n",
    "    \"\"\"\n",
    "    :param n: nombre en base 10 à convertir en binaire\n",
    "    :return: str contient la representation binaire de n\n",
    "    \"\"\"\n",
    "    assert type(n) == int and n >= 0\n",
    "    if n == 0 or n == 1:\n",
    "        return str(n)\n",
    "    quotient = n\n",
    "    strbin = \"\"\n",
    "    while quotient > 0:\n",
    "        reste = quotient % 2\n",
    "        quotient //= 2\n",
    "        strbin = str(reste) + strbin\n",
    "    return strbin\n",
    "\n",
    "\n",
    "def test_int2bin():\n",
    "    assert int2bin(0)=='0'\n",
    "    assert int2bin(7)=='111'\n",
    "    assert int2bin(16)=='10000'\n",
    "    print(\"test OK\")\n",
    "    \n",
    "test_int2bin()"
   ]
  },
  {
   "cell_type": "markdown",
   "metadata": {
    "deletable": false,
    "editable": false,
    "run_control": {
     "frozen": true
    }
   },
   "source": [
    "## 1ère Partie : Code à parité simple\n",
    "\n",
    "\n",
    "Dans la technologie des objets de l'internet (IOT), il faut souvent transmettre des informations de capteurs  (par exemple, d'un capteur de température) vers un serveur (par exemple un serveur broker MQTT/*Message Queuing Telemetry Transport*).\n",
    "\n",
    "Dans ce qui suit, on développe les outils logiciels qui interviennent dans la transmission d'un nombre entier (écrit en base 10).\n",
    "\n",
    "Dans la partie préliminaire, une fonction de conversion de décimal en binaire a été définie. On sait donc comment mettre sous forme binaire l'information à transmettre. "
   ]
  },
  {
   "cell_type": "markdown",
   "metadata": {
    "deletable": false,
    "editable": false,
    "run_control": {
     "frozen": true
    }
   },
   "source": [
    "### Question 1 : Calcul du bit de parité\n",
    "\n",
    "Lors d'une transmission, des erreurs peuvent se produire (dûes à des interférences par exemple). La technique dite du bit de parité permet de détecter simplement certaines erreurs.\n",
    "\n",
    "**Principe :**\n",
    "- comptage du nombre de `1` dans la représentation binaire d'une information,\n",
    "- calcul du bit de parité : si le nombre de `1` est impair, le bit de parité vaut 1, sinon il vaut 0.\n",
    "\n",
    "**Exemple :**\n",
    "```\n",
    "information = 1101\n",
    "bit de parité  ---> 1\n",
    "```\n",
    "Ecrire une fonction `parite` prenant en paramètres une chaine de caractères représentant une information binaire et qui retourne `True` si le bit de parité vaut 1 (*i.e.*, si le nombre de 1 est impair), `False` sinon.\n",
    "\n",
    "Voici le prototype de la fonction :\n",
    "```python\n",
    "def parite(str_bin):\n",
    "    \"\"\"\n",
    "    Calcul du bit de parité du nombre binaire\n",
    "    :param str_bin: str contenant la représentation binaire d'un nombre\n",
    "    :return : bool, True -> bit de parité à 1, False -> bit de parité à 0\n",
    "    \"\"\"\n",
    "```"
   ]
  },
  {
   "cell_type": "code",
   "execution_count": 12,
   "metadata": {},
   "outputs": [],
   "source": [
    "#-------------------------#\n",
    "#    Écrire le code ici   #\n",
    "#-------------------------#\n",
    "\n",
    "def parite(str_bin):\n",
    "    \"\"\"\n",
    "    Calcul du bit de parité du nombre binaire\n",
    "    :param str_bin: str contenant la représentation binaire d'un nombre\n",
    "    :return : bool, True -> bit de parité à 1, False -> bit de parité à 0\n",
    "    \"\"\"\n",
    "    assert verifBin(str_bin)\n",
    "    nb = 0\n",
    "    for c in str_bin:\n",
    "        if c == \"1\" :\n",
    "            nb += 1\n",
    "    return nb % 2 == 1\n"
   ]
  },
  {
   "cell_type": "code",
   "execution_count": 13,
   "metadata": {},
   "outputs": [
    {
     "name": "stdout",
     "output_type": "stream",
     "text": [
      "test ok\n"
     ]
    }
   ],
   "source": [
    "# ------------  TEST/EXEMPLE ---------- #\n",
    "def test_parite():\n",
    "    assert not parite('0000')\n",
    "    assert parite('10000')\n",
    "    assert not parite('1010')\n",
    "    assert parite('11111')\n",
    "    print(\"test ok\")\n",
    "    \n",
    "test_parite()"
   ]
  },
  {
   "cell_type": "markdown",
   "metadata": {
    "deletable": false,
    "editable": false,
    "run_control": {
     "frozen": true
    }
   },
   "source": [
    "### Question 2 : Constitution de la trame à envoyer\n",
    "\n",
    "La trame à envoyer pour transmettre l'information est constituée de 11 bits :\n",
    "- le bit le plus à gauche (de poids le plus fort) est le bit de parité ;\n",
    "- les autres bits représentent l'information. Si l'information n'occupe pas tous les bits alors des `0` seront rajoutés en tête, par exemple si l'information n'occupe réellement que 4 bits (bit 0 à bit 3), tous les autres bits de poids supérieurs (bit 4 à bit 10) seront mis à zéro.\n",
    "\n",
    "**Exemple :**\n",
    "```\n",
    "information = 1101\n",
    "bit de parité ---> 1\n",
    "la trame à envoyer est donc 10000001101\n",
    "```\n",
    "\n",
    "Ecrire une fonction `trame` prenant un nombre entier compris entre 0 et 2047 (c'est le nombre décimal maximal codable sur 10 bits) et qui retourne une chaîne de caractères correspondant à la trame qui sera effectivement envoyée.\n",
    "\n",
    "Voici le prototype de la fonction :\n",
    "```python\n",
    "def trame(n):\n",
    "    \"\"\"\n",
    "    Contruit une trame sur 11 bits sous la forme\n",
    "    bit parite | bit 10 | bit 9 | .... | bit 1 | bit 0 |\n",
    "    bit parite : est le bit de parité\n",
    "    bit 10 à bit 0 : information à transmettre\n",
    "    :param n: entier (en base 10) à transmettre dans la trame\n",
    "    :return : str, trame sur 11 bits qui sera transmise\n",
    "    \"\"\"\n",
    "```\n",
    "**Note :** Aucun test ne sera fait dans la fonction pour vérifier la validité du paramètre."
   ]
  },
  {
   "cell_type": "code",
   "execution_count": 16,
   "metadata": {},
   "outputs": [],
   "source": [
    "#-------------------------#\n",
    "#    Écrire le code ici   #\n",
    "#-------------------------#\n",
    "def trame(n):\n",
    "    \"\"\"\n",
    "    Contruit une trame sur 11 bits sous la forme\n",
    "    bit parite | bit 10 | bit 9 | .... | bit 1 | bit 0 |\n",
    "    bit parite : est le bit de parité\n",
    "    bit 10 à bit 0 : information à transmettre\n",
    "    :param n: entier (en base 10) à transmettre dans la trame\n",
    "    :return : str, trame sur 11 bits qui sera transmise\n",
    "    \"\"\"\n",
    "    str_bin = int2bin(n)\n",
    "    nbBit = len(str_bin)\n",
    "    str_bin = \"0\"*(10 - nbBit) + str_bin\n",
    "    if parite(str_bin):\n",
    "        return \"1\" + str_bin\n",
    "    return \"0\" + str_bin\n",
    "    "
   ]
  },
  {
   "cell_type": "code",
   "execution_count": 17,
   "metadata": {},
   "outputs": [
    {
     "name": "stdout",
     "output_type": "stream",
     "text": [
      "test ok\n"
     ]
    }
   ],
   "source": [
    "# ------------  TEST/EXEMPLE ---------- #\n",
    "def test_trame():\n",
    "    assert trame(10)=='00000001010'\n",
    "    assert trame(16)=='10000010000'\n",
    "    assert trame(31)=='10000011111'\n",
    "    assert trame(0)=='00000000000'\n",
    "    print(\"test ok\")\n",
    "\n",
    "test_trame()"
   ]
  },
  {
   "cell_type": "markdown",
   "metadata": {
    "deletable": false,
    "editable": false,
    "run_control": {
     "frozen": true
    }
   },
   "source": [
    "### Question 3 : Vérification de la validité de la trame reçue\n",
    "\n",
    "Lors de la réception du message, on peut tester s'il n'y a pas eu de problème de transmission du message en vérifiant que la trame est correcte. Il faut en effet que le bit de parité corresponde bien au 10 bits qui le précède. \n",
    "\n",
    "- Ecrire une fonction `verifTrame` prenant une chaîne de 11 caractères binaires et qui retourne `True` si la trame est correcte (*i.e*, la chaîne est de longueur 11, elle est composée de `0`et de `1` et que le premier bit correspond bien au bit de parité des 10 bit précédents et `False` sinon. \n",
    "- Ecrire également une fonction `test_verifTrame` de tests unitaires permettant de vérifier la conformité de la fonction `verifTram`.\n",
    "\n",
    "Voici le prototype de la fonction :\n",
    "```python\n",
    "def verifTrame(trm):\n",
    "    \"\"\"\n",
    "    Vérifie si la chaine est binaire, de longueur 11, et que le \n",
    "    premier bit est le bit de parité des 10 bit précédents\n",
    "    :param trm: une chaine de caractères \n",
    "    :return : bool, True -> c'est une trame de code de parité, \n",
    "    False sinon \n",
    "    \"\"\"\n",
    "```\n",
    "On pensera à utiliser la fonction `verifBin()` définie dans la partie préliminaire."
   ]
  },
  {
   "cell_type": "code",
   "execution_count": 20,
   "metadata": {},
   "outputs": [],
   "source": [
    "#-------------------------#\n",
    "#    Écrire le code ici   #\n",
    "#-------------------------#\n",
    "\n",
    "def verifTrame(trm):\n",
    "    \"\"\"\n",
    "    Vérifie si la chaine est binaire, de longueur 11, et que le \n",
    "    premier bit est le bit de parité des 10 bit précédents\n",
    "    :param trm: une chaine de caractères \n",
    "    :return : bool, True -> c'est une trame de code de parité, \n",
    "    False sinon \n",
    "    \"\"\"\n",
    "    if not(verifBin(trm)) or len(trm) != 11  :\n",
    "        return False\n",
    "    if parite(trm[1:]): #on entre si la nb de 1 est impaire\n",
    "        return trm[0] == \"1\"\n",
    "    return trm[0] == \"0\"\n"
   ]
  },
  {
   "cell_type": "code",
   "execution_count": 21,
   "metadata": {},
   "outputs": [
    {
     "name": "stdout",
     "output_type": "stream",
     "text": [
      "la trame est valide\n"
     ]
    }
   ],
   "source": [
    "# ------------  TEST/EXEMPLE ---------- #\n",
    "if verifTrame('00000001010'):\n",
    "    print(\"la trame est valide\")\n",
    "else :\n",
    "    print(\"erreur\")"
   ]
  },
  {
   "cell_type": "markdown",
   "metadata": {},
   "source": [
    "### Question 4 : Décodage de la trame reçue \n",
    "Après avoir vérifié que la trame est correcte, il reste à décoder l'information.\n",
    "- Ecrire une fonction `decodeTrame()`qui prend en paramètre une trame que l'on suppose correcte et qui retourne sous forme décimale l'information contenue dans cette trame, *i.e* l'entier qui est codé en binaire.\n",
    "- Ecrire également une fonction `test_decodeTrame` de tests unitaires permettant de vérifier la conformité de la fonction `decodeTram`."
   ]
  },
  {
   "cell_type": "code",
   "execution_count": 24,
   "metadata": {},
   "outputs": [],
   "source": [
    "#-------------------------#\n",
    "#    Écrire le code ici   #\n",
    "#-------------------------#\n",
    "def decodeTrame(trm):\n",
    "    \"\"\"\n",
    "    Entrée : une trame, chaîne de caratère\n",
    "    sortie : int, l'entier correspondant à la trame\n",
    "    \"\"\"\n",
    "    nombre = trm[1:]\n",
    "    return int(nombre,2)\n",
    "\n"
   ]
  },
  {
   "cell_type": "code",
   "execution_count": 25,
   "metadata": {},
   "outputs": [
    {
     "name": "stdout",
     "output_type": "stream",
     "text": [
      "00000001010 est le codage de  10\n",
      "Test ok\n"
     ]
    }
   ],
   "source": [
    "# ------------  TEST/EXEMPLE ---------- #\n",
    "print(\"00000001010 est le codage de \", decodeTrame(\"00000001010\"))\n",
    "def test_decodeTrame():\n",
    "    trm = trame(20)\n",
    "    assert decodeTrame(trm) == 20\n",
    "    trm = trame(546)\n",
    "    assert decodeTrame(trm) == 546\n",
    "    trm = trame(876)\n",
    "    assert decodeTrame(trm) == 876\n",
    "    trm = trame(2047)\n",
    "    assert decodeTrame(trm) == 2047\n",
    "    print(\"Test ok\")\n",
    "\n",
    "test_decodeTrame()"
   ]
  },
  {
   "cell_type": "markdown",
   "metadata": {
    "deletable": false,
    "editable": false,
    "run_control": {
     "frozen": true
    }
   },
   "source": [
    "### Question 5 : Programme principal\n",
    "On souhaite pouvoir transmettre des nombres entre 0 et 2047 (qui est le plus grand entier que l'on écrire sur 10 bits).\n",
    "\n",
    "- Demander à l'utilisateur de saisir un nombre en utilisant la fonction de saisie contrôlée appropriée définie dans la partie préliminaire.\n",
    "- Coder ce nombre selon le codage à bit de parité simple à l'aide de la fonction définie précédemment.\n",
    "- Afficher ce codage.\n",
    "- Après avoir vérifié que la trame est correcte, decoder l'information à l'aide de la fonction définie pour cela.\n",
    "- Afficher le nombre obtenu.\n",
    "- Vérifier qu'il s'agit du nombre initial."
   ]
  },
  {
   "cell_type": "code",
   "execution_count": 26,
   "metadata": {},
   "outputs": [
    {
     "name": "stdout",
     "output_type": "stream",
     "text": [
      "Entrer un entier compris entre 0 et 1023 : 1000\n",
      "01111101000\n",
      "1000\n"
     ]
    }
   ],
   "source": [
    "#-------------------------#\n",
    "#    Écrire le code ici   #\n",
    "#-------------------------#\n",
    "\n",
    "nombre = saisieIntab(0,1023)\n",
    "trm = trame(nombre)\n",
    "print(trm)\n",
    "assert verifTrame(trm)\n",
    "decode = decodeTrame(trm)\n",
    "print(decode)\n",
    "assert decode == nombre\n",
    "\n",
    "\n"
   ]
  },
  {
   "cell_type": "markdown",
   "metadata": {},
   "source": [
    "## 2ème partie : Chiffrement de César"
   ]
  },
  {
   "cell_type": "markdown",
   "metadata": {
    "deletable": false,
    "editable": false,
    "run_control": {
     "frozen": true
    }
   },
   "source": [
    "Le chiffrement de César est une des plus anciennes méthodes de cryptographie. Il repose sur la rotation vers la droite de l’alphabet d’un nombre fixé de caractères. \n",
    "\n",
    "Par exemple, si on considère une rotation de 3 positions, on obtient pour les lettres minuscules la table de conversion ci-dessous :\n",
    "\n",
    "\n",
    "\n",
    "|lettre originale|a|b|c|d|e|f|g|h|i|j|k|l|m|n|o|p|q|r|s|t|u|v|w|x|y|z|\n",
    "|----------------|-|-|-|-|-|-|-|-|-|-|-|-|-|-|-|-|-|-|-|-|-|-|-|-|-|-|\n",
    "|lettre codée    |d|e|f|g|h|i|j|k|l|m|n|o|p|q|r|s|t|u|v|w|x|y|z|a|b|c|\n",
    "\n",
    "On a une table analogue pour les lettres majuscules. Les autres caractères ne sont pas cryptés mais simplement recopiés. \n",
    " \n",
    "Pour la rotation de 3 positions, si la phrase à chiffrer est `bonjour, il fait beau`, le message chiffré est alors `erqmrxu, lo idlw ehdx`. \n",
    "\n",
    "Il est bien sûr possible de changer le nombre de positions\n",
    "correspondant à la rotation. Ainsi, si l'on décide de décaler d'une seule position, le même message est alors chiffré en `cpokpvs jm gbju cfbv`. \n",
    "\n",
    "Le nombre correspondant à la rotation est appelé la *clé* du code\n",
    "car il permet le déchiffrementdu message. *La clé est un entier\n",
    "  compris entre 1 et 25*.\n",
    "\n",
    "L'objectif est d'écrire des fonctions de chiffrement et de déchiffrement de textes pour le code de César."
   ]
  },
  {
   "cell_type": "markdown",
   "metadata": {
    "deletable": false,
    "editable": false,
    "run_control": {
     "frozen": true
    }
   },
   "source": [
    "### Question 1 : Chiffrement d'un caractère\n",
    "Ecrire une fonction `chiffreCar_cesar` prenant en paramètres\n",
    "un caractère et la clé de chiffrement.  Cette fonction retournera le\n",
    "caractère codé si le caractère est une lettre minuscule ou majuscule. Sinon, la fonction renverra le caractère initial.  Ainsi `chiffreCar_cesar('a',3)` renvoie `'d'`, `chiffreCar_cesar('d', 23)` renvoie `'a'`, `chiffreCar_cesar('C',4)` renvoie `'G'`.\n",
    "\n",
    "**Indications :** \n",
    "On rappelle que l'on peut comparer des caractères avec les opérateurs `<,>, ==`et `!=`.\n",
    "\n",
    "La fonction `ord(c)` retourne le code Unicode du caractère `c` et la fonction `chr(i)` retourne la lettre dont le code Unicode est `i`. Par exemple :\n",
    "  ```python\n",
    "  uni = ord(\"a\") # uni vaut 97 car l'unicode de \"a\" est 97\n",
    "  lettre = chr(98)  # lettre vaut \"b\" car 98 est son unicode\n",
    "  print( chr(ord(\"a\")) == \"a\") # affiche True\n",
    "  ```\n",
    "  \n",
    "On rappelle que les unicodes des lettres minuscules sont consécutifs, compris entre 97 et 122  et suivent l'ordre alphabétique :  l'unicode de `'a'` est 97, celui de `'b'` est 98, etc, celui de `'z'` est 12. Il en est de même pour les unicodes des lettres majuscules qui varient de 65 pour `'A'`à 90 pour `'Z'`."
   ]
  },
  {
   "cell_type": "code",
   "execution_count": 29,
   "metadata": {},
   "outputs": [],
   "source": [
    "#-------------------------#\n",
    "#    Écrire le code ici   #\n",
    "#-------------------------#\n",
    "def chiffreCar_cesar(c,n):\n",
    "    assert type(c) == str and len(c) == 1 and 0 < n < 26\n",
    "    uni = ord(c)\n",
    "    if not(64 < uni < 91 or 96 < uni < 123):\n",
    "        return c\n",
    "    uniN = uni + n\n",
    "    if 64 < uni < 91:\n",
    "        if uniN > 90:\n",
    "            uniN -= 26\n",
    "        return chr(uniN)\n",
    "    if 96 < uni < 123:\n",
    "        if uniN > 122:\n",
    "            uniN -= 26\n",
    "        return chr(uniN)\n",
    "    \n",
    "\n"
   ]
  },
  {
   "cell_type": "code",
   "execution_count": 30,
   "metadata": {},
   "outputs": [
    {
     "name": "stdout",
     "output_type": "stream",
     "text": [
      "test OK\n"
     ]
    }
   ],
   "source": [
    "# ------------  TEST/EXEMPLE ---------- #\n",
    "def test_chiffreCar_cesar():\n",
    "    assert chiffreCar_cesar('a',3)=='d'\n",
    "    assert chiffreCar_cesar('d', 23) =='a'\n",
    "    assert chiffreCar_cesar('C',4)=='G'\n",
    "    assert chiffreCar_cesar('@',17)=='@'\n",
    "    print(\"test OK\")\n",
    "    \n",
    "test_chiffreCar_cesar()"
   ]
  },
  {
   "cell_type": "markdown",
   "metadata": {
    "deletable": false,
    "editable": false,
    "run_control": {
     "frozen": true
    }
   },
   "source": [
    "### Question 2 : Chiffrement d'une chaîne de caractères\n",
    "\n",
    "En utilisant la fonction `chiffreCar_cesar`, écrire une fonction `chiffre_cesar` qui prend en paramètres une chaîne de caractères et la clé de chiffrement et qui retourne la chaîne chiffrée. "
   ]
  },
  {
   "cell_type": "code",
   "execution_count": 33,
   "metadata": {},
   "outputs": [],
   "source": [
    "#-------------------------#\n",
    "#    Écrire le code ici   #\n",
    "#-------------------------#\n",
    "def chiffre_cesar(carac,n):\n",
    "    chaineChifree = \"\"\n",
    "    for c in carac:\n",
    "        chaineChifree += chiffreCar_cesar(c,n)\n",
    "    return chaineChifree\n",
    "\n",
    "\n"
   ]
  },
  {
   "cell_type": "code",
   "execution_count": 34,
   "metadata": {},
   "outputs": [
    {
     "name": "stdout",
     "output_type": "stream",
     "text": [
      "Test ok\n"
     ]
    }
   ],
   "source": [
    "# ------------  TEST/EXEMPLE ---------- #\n",
    "def test_chiffre_cesar():\n",
    "    assert chiffre_cesar(\"bonjour, il fait beau\",3)== \"erqmrxu, lo idlw ehdx\"\n",
    "    assert chiffre_cesar(\"Bonjour\",7)==\"Ivuqvby\"\n",
    "    assert chiffre_cesar(\"C'est super la cryptographie\",5)== \"H'jxy xzujw qf hwduytlwfumnj\"\n",
    "    print(\"Test ok\")\n",
    "\n",
    "test_chiffre_cesar()"
   ]
  },
  {
   "cell_type": "markdown",
   "metadata": {
    "deletable": false,
    "editable": false,
    "run_control": {
     "frozen": true
    }
   },
   "source": [
    "### Question 3\n",
    "Ecrire une fonction `dechiffre_cesar()` permettant de\n",
    "déchiffrer un message codé avec le chiffrement de César. Cette fonction prendra comme paramètres la chaîne chiffrée et la clé de chiffrement.\n",
    "\n",
    "**Remarque**: Les valeurs des clés de chiffrement et de déchiffrement sont liées : la somme de la valeur de la clé de codage et de celle de décodage est égale à 26.  Ainsi si le codage est fait avec la clé 3, le décodage se fait avec la clé 23. Si le codage est fait avec la clé 10, le décodage se fait avec la clé 16."
   ]
  },
  {
   "cell_type": "code",
   "execution_count": 35,
   "metadata": {},
   "outputs": [],
   "source": [
    "#-------------------------#\n",
    "#    Écrire le code ici   #\n",
    "#-------------------------#\n",
    "def dechiffre_cesar(carac,n):\n",
    "    cleDecode = 26 - n\n",
    "    return chiffre_cesar(carac,cleDecode)\n",
    "        \n",
    "\n"
   ]
  },
  {
   "cell_type": "code",
   "execution_count": 36,
   "metadata": {},
   "outputs": [
    {
     "name": "stdout",
     "output_type": "stream",
     "text": [
      "Test ok\n"
     ]
    }
   ],
   "source": [
    "# ------------  TEST/EXEMPLE ---------- #\n",
    "def test_dechiffre_cesar():\n",
    "    assert dechiffre_cesar(\"uryyb JBEYQ\",13)==\"hello WORLD\"\n",
    "    assert dechiffre_cesar(\"Ivuqvby\",7)==\"Bonjour\"\n",
    "    assert dechiffre_cesar(\"jgnnq YQTNF\",2)==\"hello WORLD\"\n",
    "    print(\"Test ok\")\n",
    "    \n",
    "test_dechiffre_cesar()"
   ]
  },
  {
   "cell_type": "markdown",
   "metadata": {
    "deletable": false,
    "editable": false,
    "run_control": {
     "frozen": true
    }
   },
   "source": [
    "### Question 4 : \"C'est super la cryptographie\"\n",
    "Ecrire un progamme qui vérifie que le message `C'est super la cryptographie !` chiffré avec la clé 5 donne `H'jxy xzujw qf hwduytlwfumnj !` et que le déchiffrement de cette chaîne avec la clé 5 redonne bien `C'est super la cryptographie !`."
   ]
  },
  {
   "cell_type": "code",
   "execution_count": 37,
   "metadata": {},
   "outputs": [
    {
     "name": "stdout",
     "output_type": "stream",
     "text": [
      "Test ok\n"
     ]
    }
   ],
   "source": [
    "#-------------------------#\n",
    "#    Écrire le code ici   #\n",
    "#-------------------------#\n",
    "\n",
    "assert chiffre_cesar(\"C'est super la cryptographie !\",5) == \"H'jxy xzujw qf hwduytlwfumnj !\"\n",
    "assert dechiffre_cesar(\"H'jxy xzujw qf hwduytlwfumnj !\",5) == \"C'est super la cryptographie !\"\n",
    "print(\"Test ok\")\n",
    "\n",
    "\n"
   ]
  },
  {
   "cell_type": "markdown",
   "metadata": {
    "deletable": false,
    "editable": false,
    "run_control": {
     "frozen": true
    }
   },
   "source": [
    "### Question 4 : ROT 13\n",
    "\n",
    "Un cas particulier du chiffrement de César est le chiffrement [ROT13](https://fr.wikipedia.org/wiki/ROT13) qui correspond au chiffrement de César avec la clé 13. L'intérêt de ce chiffrement est que le chiffrement correspond au déchiffrement.\n",
    "Définir les fonctions `chiffre_ROT13` et `dechiffre_ROT13` en utilisant la fonction `chiffre_cesar`.\n",
    "\n",
    "Afficher le chiffrement de `hello world` selon le chiffrement ROT13. Déchiffrer le message obtenu, afficher le résultat et vérifier que c'est bien `hello word`."
   ]
  },
  {
   "cell_type": "code",
   "execution_count": 39,
   "metadata": {},
   "outputs": [
    {
     "name": "stdout",
     "output_type": "stream",
     "text": [
      "uryyb jbeyq\n",
      "hello world\n"
     ]
    }
   ],
   "source": [
    "#-------------------------#\n",
    "#    Écrire le code ici   #\n",
    "#-------------------------#\n",
    "\n",
    "def chiffre_ROT13(carac):\n",
    "    return chiffre_cesar(carac,13)\n",
    "\n",
    "def dechiffre_ROT13(carac):\n",
    "    return chiffre_ROT13(carac)\n",
    "\n",
    "chaineChiffree = chiffre_ROT13(\"hello world\")\n",
    "print(chaineChiffree)\n",
    "chaineDechiffree = dechiffre_ROT13(chaineChiffree)\n",
    "print(chaineDechiffree)\n",
    "assert chaineDechiffree == \"hello world\"\n",
    "\n"
   ]
  },
  {
   "cell_type": "markdown",
   "metadata": {
    "deletable": false,
    "editable": false,
    "run_control": {
     "frozen": true
    }
   },
   "source": [
    "### Question 5 : Vulnérabilité du code de César\n",
    "\n",
    "Le code de César est très simple, il nécessite seulement que le destinataire connaisse la clé de chiffrement. Il est également très vulnérable.\n",
    "\n",
    "Comment déchiffrer `oaz jk borrkzgtkayk` ? \n",
    "\n",
    "Ecrire une fonction `hackCesar` qui prend en paramètre un message chiffré et affiche tous les décodages possibles. \n",
    "\n",
    "Qu'est-ce qui se cache derrière le message  `oaz jk borrkzgtkayk`?"
   ]
  },
  {
   "cell_type": "code",
   "execution_count": 43,
   "metadata": {},
   "outputs": [
    {
     "name": "stdout",
     "output_type": "stream",
     "text": [
      "nzy ij anqqjyfsjzxj\n",
      "myx hi zmppixeriywi\n",
      "lxw gh yloohwdqhxvh\n",
      "kwv fg xknngvcpgwug\n",
      "jvu ef wjmmfubofvtf\n",
      "iut de villetaneuse\n",
      "hts cd uhkkdszmdtrd\n",
      "gsr bc tgjjcrylcsqc\n",
      "frq ab sfiibqxkbrpb\n",
      "eqp za rehhapwjaqoa\n",
      "dpo yz qdggzovizpnz\n",
      "con xy pcffynuhyomy\n",
      "bnm wx obeexmtgxnlx\n",
      "aml vw naddwlsfwmkw\n",
      "zlk uv mzccvkrevljv\n",
      "ykj tu lybbujqdukiu\n",
      "xji st kxaatipctjht\n",
      "wih rs jwzzshobsigs\n",
      "vhg qr ivyyrgnarhfr\n",
      "ugf pq huxxqfmzqgeq\n",
      "tfe op gtwwpelypfdp\n",
      "sed no fsvvodkxoeco\n",
      "rdc mn eruuncjwndbn\n",
      "qcb lm dqttmbivmcam\n",
      "pba kl cpsslahulbzl\n"
     ]
    },
    {
     "data": {
      "text/plain": [
       "'iut de villetaneuse'"
      ]
     },
     "execution_count": 43,
     "metadata": {},
     "output_type": "execute_result"
    }
   ],
   "source": [
    "#-------------------------#\n",
    "#    Écrire le code ici   #\n",
    "#-------------------------#\n",
    "\n",
    "def hackCesar(msg):\n",
    "    for i in range(1,26):\n",
    "        print(dechiffre_cesar(msg,i))\n",
    "        \n",
    "hackCesar(\"oaz jk borrkzgtkayk\")\n",
    "dechiffre_cesar(\"oaz jk borrkzgtkayk\",6)"
   ]
  },
  {
   "cell_type": "markdown",
   "metadata": {},
   "source": [
    "### Question 6 : Chiffrement d'un fichier \n",
    "\n",
    "- Ecrire une fonction prenant en paramètres un fichier `fichier` et une clé de chiffrement et qui écrit dans `fichier_chiffré` la version chiffrée.\n",
    "\n",
    "- Tester cette fonction sur les fichiers `files/lorem.txt` puis `files/zadig.txt`."
   ]
  },
  {
   "cell_type": "code",
   "execution_count": 53,
   "metadata": {},
   "outputs": [],
   "source": [
    "#-------------------------#\n",
    "#    Écrire le code ici   #\n",
    "#-------------------------#\n",
    "def chiffrementFichier(fichier,key):\n",
    "    fichier_chiffre = open(\"fichier_chiffré.txt\",\"w\")\n",
    "    lines = fichier.readlines()\n",
    "    for line in lines:\n",
    "        fichier_chiffre.write(chiffre_cesar(line,key))\n",
    "    fichier_chiffre.close()\n",
    "    \n",
    "f = open(\"lorem.txt\",\"r\")\n",
    "chiffrementFichier(f,5)\n",
    "f.close()\n"
   ]
  },
  {
   "cell_type": "code",
   "execution_count": null,
   "metadata": {
    "deletable": false,
    "editable": false,
    "run_control": {
     "frozen": true
    }
   },
   "outputs": [],
   "source": [
    "#-------------------------#\n",
    "#    Écrire le code ici   #\n",
    "#-------------------------#\n",
    " \n",
    "    \n",
    "    "
   ]
  },
  {
   "cell_type": "markdown",
   "metadata": {
    "deletable": false,
    "editable": false,
    "run_control": {
     "frozen": true
    }
   },
   "source": [
    "### Question 7 : Déchiffrement d'un fichier \n",
    "- Ecrire une fonction qui prend en paramètres un fichier chiffré `fichier_chiffré` et la clé de chiffrement et qui écrit dans `fichier_déchiffré` ce qui a été déchiffré.\n",
    "\n",
    "- Tester cette fonction sur les chiffrés des fichiers `files/lorem.txt` puis `files/zadig.txt`.\n",
    "\n",
    "- Vérifier dans un terminal grâce à la fonction `diff` que la version déchiffrée des fichiers est bien la même que version d'origine. "
   ]
  },
  {
   "cell_type": "code",
   "execution_count": 54,
   "metadata": {},
   "outputs": [],
   "source": [
    "#-------------------------#\n",
    "#    Écrire le code ici   #\n",
    "#-------------------------#\n",
    "def dechiffrementFichier(fichier_chiffre,key):\n",
    "    fichier_dechiffre = open(\"fichier_déchiffré.txt\",\"w\")\n",
    "    lines = fichier_chiffre.readlines()\n",
    "    for line in lines:\n",
    "        fichier_dechiffre.write(dechiffre_cesar(line,key))\n",
    "    fichier_dechiffre.close()\n",
    "    \n",
    "f = open(\"fichier_chiffré\",\"r\")\n",
    "dechiffrementFichier(f,5)\n",
    "f.close()\n",
    "\n",
    "    "
   ]
  }
 ],
 "metadata": {
  "@webio": {
   "lastCommId": "c50371d2dac64fcc92a95e4a4ae17324",
   "lastKernelId": "b531d981-5992-4ac6-88e2-878a76aa508a"
  },
  "kernelspec": {
   "display_name": "Python 3",
   "language": "python",
   "name": "python3"
  },
  "language_info": {
   "codemirror_mode": {
    "name": "ipython",
    "version": 3
   },
   "file_extension": ".py",
   "mimetype": "text/x-python",
   "name": "python",
   "nbconvert_exporter": "python",
   "pygments_lexer": "ipython3",
   "version": "3.8.8"
  },
  "latex_envs": {
   "LaTeX_envs_menu_present": true,
   "autoclose": false,
   "autocomplete": true,
   "bibliofile": "biblio.bib",
   "cite_by": "apalike",
   "current_citInitial": 1,
   "eqLabelWithNumbers": true,
   "eqNumInitial": 1,
   "hotkeys": {
    "equation": "Ctrl-E",
    "itemize": "Ctrl-I"
   },
   "labels_anchors": false,
   "latex_user_defs": false,
   "report_style_numbering": false,
   "user_envs_cfg": false
  },
  "toc": {
   "base_numbering": 1,
   "nav_menu": {},
   "number_sections": true,
   "sideBar": true,
   "skip_h1_title": true,
   "title_cell": "Table des matières",
   "title_sidebar": "Table des matières",
   "toc_cell": false,
   "toc_position": {},
   "toc_section_display": true,
   "toc_window_display": false
  },
  "varInspector": {
   "cols": {
    "lenName": 16,
    "lenType": 16,
    "lenVar": 40
   },
   "kernels_config": {
    "python": {
     "delete_cmd_postfix": "",
     "delete_cmd_prefix": "del ",
     "library": "var_list.py",
     "varRefreshCmd": "print(var_dic_list())"
    },
    "r": {
     "delete_cmd_postfix": ") ",
     "delete_cmd_prefix": "rm(",
     "library": "var_list.r",
     "varRefreshCmd": "cat(var_dic_list()) "
    }
   },
   "types_to_exclude": [
    "module",
    "function",
    "builtin_function_or_method",
    "instance",
    "_Feature"
   ],
   "window_display": false
  }
 },
 "nbformat": 4,
 "nbformat_minor": 2
}
