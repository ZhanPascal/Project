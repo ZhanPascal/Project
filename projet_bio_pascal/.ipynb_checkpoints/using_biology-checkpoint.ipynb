{
 "cells": [
  {
   "cell_type": "markdown",
   "id": "a023b3ed",
   "metadata": {},
   "source": [
    "# Notebook de présentation de la SAE S01.02"
   ]
  },
  {
   "cell_type": "markdown",
   "id": "47840237",
   "metadata": {},
   "source": [
    "## Binôme \n",
    "\n",
    "* Pascal Zhan\n",
    "* Frédéric Huang "
   ]
  },
  {
   "cell_type": "code",
   "execution_count": 1,
   "id": "f8895253",
   "metadata": {},
   "outputs": [],
   "source": [
    "from test_biology import *"
   ]
  },
  {
   "cell_type": "markdown",
   "id": "72647275",
   "metadata": {},
   "source": [
    "# Partie 1"
   ]
  },
  {
   "cell_type": "markdown",
   "id": "eb71f7ed",
   "metadata": {},
   "source": [
    "## Question 1"
   ]
  },
  {
   "cell_type": "code",
   "execution_count": 2,
   "id": "ae6ead71",
   "metadata": {},
   "outputs": [
    {
     "name": "stdout",
     "output_type": "stream",
     "text": [
      "Test de la fonction est_base ok\n"
     ]
    }
   ],
   "source": [
    "test_est_base()"
   ]
  },
  {
   "cell_type": "markdown",
   "id": "cc6f73ba",
   "metadata": {},
   "source": [
    "## Question 2"
   ]
  },
  {
   "cell_type": "code",
   "execution_count": 3,
   "id": "8205ed00",
   "metadata": {},
   "outputs": [
    {
     "name": "stdout",
     "output_type": "stream",
     "text": [
      "Test de la fonction est_adn ok\n"
     ]
    }
   ],
   "source": [
    "test_est_adn()"
   ]
  },
  {
   "cell_type": "markdown",
   "id": "33fba2f1",
   "metadata": {},
   "source": [
    "## Question 3"
   ]
  },
  {
   "cell_type": "code",
   "execution_count": 4,
   "id": "2b0dca8d",
   "metadata": {},
   "outputs": [
    {
     "name": "stdout",
     "output_type": "stream",
     "text": [
      "Test de la fonction arn ok\n"
     ]
    }
   ],
   "source": [
    "test_arn()"
   ]
  },
  {
   "cell_type": "markdown",
   "id": "700d08ed",
   "metadata": {},
   "source": [
    "## Question 4"
   ]
  },
  {
   "cell_type": "code",
   "execution_count": 5,
   "id": "ad60b8c9",
   "metadata": {},
   "outputs": [
    {
     "name": "stdout",
     "output_type": "stream",
     "text": [
      "Test de la fonction arn_to_codons ok\n"
     ]
    }
   ],
   "source": [
    "test_arn_to_codons()"
   ]
  },
  {
   "cell_type": "markdown",
   "id": "7323933d",
   "metadata": {},
   "source": [
    "## Question 5.1)"
   ]
  },
  {
   "cell_type": "code",
   "execution_count": 6,
   "id": "eb4c0772",
   "metadata": {},
   "outputs": [
    {
     "name": "stdout",
     "output_type": "stream",
     "text": [
      "Test de la fonction load_dico_codons_aa ok\n"
     ]
    }
   ],
   "source": [
    "test_load_dico_codons_aa()"
   ]
  },
  {
   "cell_type": "markdown",
   "id": "f722421d",
   "metadata": {},
   "source": [
    "## Question 5.2)"
   ]
  },
  {
   "cell_type": "code",
   "execution_count": 7,
   "id": "789f85ee",
   "metadata": {},
   "outputs": [
    {
     "name": "stdout",
     "output_type": "stream",
     "text": [
      "Test de la fonction codons_stop ok\n"
     ]
    }
   ],
   "source": [
    "test_codons_stop()"
   ]
  },
  {
   "cell_type": "markdown",
   "id": "1441167c",
   "metadata": {},
   "source": [
    "## Question 6"
   ]
  },
  {
   "cell_type": "code",
   "execution_count": 8,
   "id": "cefdb888",
   "metadata": {},
   "outputs": [
    {
     "name": "stdout",
     "output_type": "stream",
     "text": [
      "Test de la fonction codons_to_aa ok\n"
     ]
    }
   ],
   "source": [
    "test_codons_to_aa()"
   ]
  },
  {
   "cell_type": "markdown",
   "id": "8248b755",
   "metadata": {},
   "source": [
    "# PARTIE 2"
   ]
  },
  {
   "cell_type": "markdown",
   "id": "231e48ee",
   "metadata": {},
   "source": [
    "## Question 1"
   ]
  },
  {
   "cell_type": "code",
   "execution_count": 9,
   "id": "9a510ce2",
   "metadata": {},
   "outputs": [
    {
     "name": "stdout",
     "output_type": "stream",
     "text": [
      "Test de la fonction nextIndice ok\n"
     ]
    }
   ],
   "source": [
    "test_nextIndice()"
   ]
  },
  {
   "cell_type": "markdown",
   "id": "dfbd8d30",
   "metadata": {},
   "source": [
    "## Question 2"
   ]
  },
  {
   "cell_type": "code",
   "execution_count": 10,
   "id": "8ea52a13",
   "metadata": {},
   "outputs": [
    {
     "name": "stdout",
     "output_type": "stream",
     "text": [
      "Test de la fonction decoupe_sequence ok\n"
     ]
    }
   ],
   "source": [
    "test_decoupe_sequence()"
   ]
  },
  {
   "cell_type": "markdown",
   "id": "6e75f4a4",
   "metadata": {},
   "source": [
    "## Question 3"
   ]
  },
  {
   "cell_type": "code",
   "execution_count": 11,
   "id": "b9408437",
   "metadata": {},
   "outputs": [
    {
     "name": "stdout",
     "output_type": "stream",
     "text": [
      "Test de la fonction codons_to_seq_codantes ok\n"
     ]
    }
   ],
   "source": [
    "test_codons_to_seq_codantes()"
   ]
  },
  {
   "cell_type": "markdown",
   "id": "bc400f8e",
   "metadata": {},
   "source": [
    "## Question 4"
   ]
  },
  {
   "cell_type": "code",
   "execution_count": 12,
   "id": "586cb022",
   "metadata": {},
   "outputs": [
    {
     "name": "stdout",
     "output_type": "stream",
     "text": [
      "Test de la fonction seq_codantes_to_seq_aas ok\n"
     ]
    }
   ],
   "source": [
    "test_seq_codantes_to_seq_aas()"
   ]
  },
  {
   "cell_type": "markdown",
   "id": "2af12cc8",
   "metadata": {},
   "source": [
    "## Question 5"
   ]
  },
  {
   "cell_type": "code",
   "execution_count": 13,
   "id": "1f70d4a2",
   "metadata": {},
   "outputs": [
    {
     "name": "stdout",
     "output_type": "stream",
     "text": [
      "Test de la fonction adn_encode_molecule ok\n"
     ]
    }
   ],
   "source": [
    "test_adn_encode_molecule()"
   ]
  }
 ],
 "metadata": {
  "kernelspec": {
   "display_name": "Python 3",
   "language": "python",
   "name": "python3"
  },
  "language_info": {
   "codemirror_mode": {
    "name": "ipython",
    "version": 3
   },
   "file_extension": ".py",
   "mimetype": "text/x-python",
   "name": "python",
   "nbconvert_exporter": "python",
   "pygments_lexer": "ipython3",
   "version": "3.8.8"
  }
 },
 "nbformat": 4,
 "nbformat_minor": 5
}
